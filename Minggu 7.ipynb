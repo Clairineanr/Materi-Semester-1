{
 "cells": [
  {
   "cell_type": "code",
   "execution_count": 37,
   "id": "73cf7089-f127-4c37-9c43-ce74aa3b36fe",
   "metadata": {},
   "outputs": [
    {
     "name": "stdout",
     "output_type": "stream",
     "text": [
      "Gaji yang diperoleh adalah 100 USD perbulan: \n",
      "Gaji yang diperoleh adalah 225 USD perbulan: \n",
      "Gaji yang diperoleh adalah 100 USD perbulan: \n",
      "Gaji yang diperoleh adalah 150 USD perbulan: \n",
      "Gaji yang diperoleh adalah 300 USD perbulan: \n",
      "Gaji yang diperoleh adalah 150 USD perbulan: \n",
      "Gaji yang diperoleh adalah 300 USD perbulan: \n",
      "Gaji yang diperoleh adalah 300 USD perbulan: \n",
      "[100, 225, 100, 150, 300, 150, 300, 300]\n",
      "Total gaji yang di dapat setiap bulan adalah : 1625 \n"
     ]
    }
   ],
   "source": [
    "lama_bekerja = [2, 8, 4, 5, 11, 5, 13, 6]\n",
    "gaji_didapat = []\n",
    "a = 100\n",
    "b = 150\n",
    "c = 225\n",
    "d = 300\n",
    "A = 100*2\n",
    "B = 150*2\n",
    "C = 225*2\n",
    "D = 300*2\n",
    "for i in lama_bekerja :\n",
    "    if i < 5 :\n",
    "        print(f\"Gaji yang diperoleh adalah {a} USD perbulan: \")\n",
    "        gaji_didapat.append(a)\n",
    "    elif i == 5 :\n",
    "        print(f\"Gaji yang diperoleh adalah {b} USD perbulan: \")\n",
    "        gaji_didapat.append(b)\n",
    "    elif i > 6 and i <= 10 :\n",
    "        print(f\"Gaji yang diperoleh adalah {c} USD perbulan: \")\n",
    "        gaji_didapat.append(c)\n",
    "    else :\n",
    "        print(f\"Gaji yang diperoleh adalah {d} USD perbulan: \")\n",
    "        gaji_didapat.append(d)\n",
    "total_gaji_perbulan = sum(gaji_didapat)\n",
    "print(gaji_didapat)\n",
    "print(f\"Total gaji yang di dapat setiap bulan adalah : {total_gaji_perbulan} \")"
   ]
  },
  {
   "cell_type": "code",
   "execution_count": null,
   "id": "a0499df0-ad3f-4f72-aa91-3728553ebc0b",
   "metadata": {},
   "outputs": [],
   "source": []
  }
 ],
 "metadata": {
  "kernelspec": {
   "display_name": "Python 3 (ipykernel)",
   "language": "python",
   "name": "python3"
  },
  "language_info": {
   "codemirror_mode": {
    "name": "ipython",
    "version": 3
   },
   "file_extension": ".py",
   "mimetype": "text/x-python",
   "name": "python",
   "nbconvert_exporter": "python",
   "pygments_lexer": "ipython3",
   "version": "3.12.4"
  }
 },
 "nbformat": 4,
 "nbformat_minor": 5
}
