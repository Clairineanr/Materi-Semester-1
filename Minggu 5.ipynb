{
 "cells": [
  {
   "cell_type": "code",
   "execution_count": 39,
   "id": "4d24192c-9137-446b-a75e-4aa26ce6c54f",
   "metadata": {},
   "outputs": [
    {
     "name": "stdout",
     "output_type": "stream",
     "text": [
      "perulangan ke- 0\n",
      "perulangan ke- 1\n",
      "perulangan ke- 2\n",
      "perulangan ke- 3\n",
      "perulangan ke- 4\n"
     ]
    }
   ],
   "source": [
    "pengulangan=5\n",
    "for i in range (pengulangan):\n",
    "    print(\"perulangan ke-\", i)"
   ]
  },
  {
   "cell_type": "code",
   "execution_count": 7,
   "id": "281271b1-6bd1-42f9-87be-050ca78e7c38",
   "metadata": {},
   "outputs": [
    {
     "name": "stdin",
     "output_type": "stream",
     "text": [
      "Masukkan dari  1\n"
     ]
    },
    {
     "name": "stdout",
     "output_type": "stream",
     "text": [
      "x\n"
     ]
    },
    {
     "name": "stdin",
     "output_type": "stream",
     "text": [
      "Masukkan dari  2\n"
     ]
    },
    {
     "name": "stdout",
     "output_type": "stream",
     "text": [
      "x\n"
     ]
    },
    {
     "name": "stdin",
     "output_type": "stream",
     "text": [
      "Masukkan dari  3\n"
     ]
    },
    {
     "name": "stdout",
     "output_type": "stream",
     "text": [
      "x\n"
     ]
    },
    {
     "name": "stdin",
     "output_type": "stream",
     "text": [
      "Masukkan dari  4\n"
     ]
    },
    {
     "name": "stdout",
     "output_type": "stream",
     "text": [
      "x\n"
     ]
    },
    {
     "name": "stdin",
     "output_type": "stream",
     "text": [
      "Masukkan dari  5\n"
     ]
    },
    {
     "name": "stdout",
     "output_type": "stream",
     "text": [
      "x\n"
     ]
    }
   ],
   "source": [
    "n=5\n",
    "x=[]\n",
    "for i in range (n):\n",
    "    x.append(int(input(\"Masukkan dari \")))\n",
    "    print(\"x\")"
   ]
  },
  {
   "cell_type": "code",
   "execution_count": 11,
   "id": "3eba772d-0dd2-450e-a8a5-5a6fae396fcb",
   "metadata": {},
   "outputs": [
    {
     "name": "stdout",
     "output_type": "stream",
     "text": [
      "1\n",
      "2\n",
      "3\n",
      "4\n",
      "The for loop is over\n",
      "done!\n"
     ]
    }
   ],
   "source": [
    "for i in range(1,5):\n",
    "    print(i)\n",
    "else:\n",
    "    print(\"The for loop is over\")\n",
    "print(\"done!\")"
   ]
  },
  {
   "cell_type": "code",
   "execution_count": 13,
   "id": "1fd11fc1-1ac5-4e7c-aca0-889d387f08e1",
   "metadata": {},
   "outputs": [
    {
     "name": "stdout",
     "output_type": "stream",
     "text": [
      "1\n",
      "3\n",
      "5\n",
      "7\n",
      "9\n"
     ]
    }
   ],
   "source": [
    "for i in range(1,10,2):\n",
    "    print(i)"
   ]
  },
  {
   "cell_type": "code",
   "execution_count": 17,
   "id": "d172bcf1-6609-4331-b821-f114ec0eb8e8",
   "metadata": {},
   "outputs": [
    {
     "name": "stdout",
     "output_type": "stream",
     "text": [
      "C\n",
      "l\n",
      "a\n",
      "i\n",
      "r\n",
      "i\n",
      "n\n",
      "e\n"
     ]
    }
   ],
   "source": [
    "for i in \"Clairine\":\n",
    "    print(i)"
   ]
  },
  {
   "cell_type": "code",
   "execution_count": 25,
   "id": "f1a8b599-674b-4bcf-add0-f16614ce7988",
   "metadata": {},
   "outputs": [
    {
     "name": "stdout",
     "output_type": "stream",
     "text": [
      "1\n",
      "3\n",
      "8\n",
      "10\n"
     ]
    }
   ],
   "source": [
    "data_list=[1,3,8,10]\n",
    "for i in data_list:\n",
    "    print(i)"
   ]
  },
  {
   "cell_type": "code",
   "execution_count": 29,
   "id": "24fd7670-19cd-49f7-971d-38cd0aae77db",
   "metadata": {},
   "outputs": [
    {
     "name": "stdout",
     "output_type": "stream",
     "text": [
      "0\n",
      "1\n",
      "2\n",
      "3\n"
     ]
    }
   ],
   "source": [
    "data_list=[1,3,8,10]\n",
    "n=4\n",
    "for i in range(len(data_list)):\n",
    "    print(i)"
   ]
  },
  {
   "cell_type": "code",
   "execution_count": 23,
   "id": "2a0f1b7e-d893-45ff-9917-15c33e9e75a7",
   "metadata": {},
   "outputs": [
    {
     "name": "stdout",
     "output_type": "stream",
     "text": [
      "Ayam\n",
      "Angsa\n",
      "Burung Puyuh\n",
      "Kalkun\n",
      "Bebek\n"
     ]
    }
   ],
   "source": [
    "unggas=[\"Ayam\", \"Angsa\", \"Burung Puyuh\", \"Kalkun\", \"Bebek\"]\n",
    "for i in unggas:\n",
    "    print(i)"
   ]
  },
  {
   "cell_type": "code",
   "execution_count": 37,
   "id": "b0f05930-10fa-471d-9773-e12124beda9f",
   "metadata": {},
   "outputs": [
    {
     "name": "stdout",
     "output_type": "stream",
     "text": [
      "2\n",
      "4\n",
      "6\n",
      "8\n",
      "10\n",
      "12\n",
      "14\n",
      "16\n",
      "18\n",
      "20\n"
     ]
    }
   ],
   "source": [
    "for i in range(2,22,2):\n",
    "    print(i)"
   ]
  },
  {
   "cell_type": "code",
   "execution_count": 53,
   "id": "24ef58ba-752e-49de-843c-faf4140a1845",
   "metadata": {},
   "outputs": [
    {
     "name": "stdout",
     "output_type": "stream",
     "text": [
      "Hasil penjumlahan dari angka 1 sampai 10:  1\n",
      "Hasil penjumlahan dari angka 1 sampai 10:  3\n",
      "Hasil penjumlahan dari angka 1 sampai 10:  6\n",
      "Hasil penjumlahan dari angka 1 sampai 10:  10\n",
      "Hasil penjumlahan dari angka 1 sampai 10:  15\n",
      "Hasil penjumlahan dari angka 1 sampai 10:  21\n",
      "Hasil penjumlahan dari angka 1 sampai 10:  28\n",
      "Hasil penjumlahan dari angka 1 sampai 10:  36\n",
      "Hasil penjumlahan dari angka 1 sampai 10:  45\n",
      "Hasil penjumlahan dari angka 1 sampai 10:  55\n"
     ]
    }
   ],
   "source": [
    "jumlah=0\n",
    "for i in range(1,11):\n",
    "    jumlah=jumlah+i\n",
    "    print(\"Hasil penjumlahan dari angka 1 sampai 10: \", jumlah)"
   ]
  },
  {
   "cell_type": "code",
   "execution_count": 57,
   "id": "1ea3b276-f97c-428e-bdc1-6ed38c9295f7",
   "metadata": {},
   "outputs": [
    {
     "name": "stdin",
     "output_type": "stream",
     "text": [
      "masukkan jumlah data:  2\n",
      "masukkan data:  4\n",
      "masukkan data:  6\n"
     ]
    },
    {
     "name": "stdout",
     "output_type": "stream",
     "text": [
      "data kamu adalah  [4.0, 6.0]\n"
     ]
    }
   ],
   "source": [
    "n= int(input(\"masukkan jumlah data: \"))\n",
    "list_data=[float(input(\"masukkan data: \")) for _ in range(n)]\n",
    "print(\"data kamu adalah \",list_data)"
   ]
  },
  {
   "cell_type": "code",
   "execution_count": 59,
   "id": "fd00ee0e-e754-411b-bd9b-fb3d7acc3906",
   "metadata": {},
   "outputs": [
    {
     "name": "stdin",
     "output_type": "stream",
     "text": [
      "masukkan data: 2\n"
     ]
    },
    {
     "name": "stdout",
     "output_type": "stream",
     "text": [
      "data kamu adalah  [2.0]\n"
     ]
    },
    {
     "name": "stdin",
     "output_type": "stream",
     "text": [
      "masukkan data: 4\n"
     ]
    },
    {
     "name": "stdout",
     "output_type": "stream",
     "text": [
      "data kamu adalah  [2.0, 4.0]\n"
     ]
    },
    {
     "name": "stdin",
     "output_type": "stream",
     "text": [
      "masukkan data: 6\n"
     ]
    },
    {
     "name": "stdout",
     "output_type": "stream",
     "text": [
      "data kamu adalah  [2.0, 4.0, 6.0]\n"
     ]
    },
    {
     "name": "stdin",
     "output_type": "stream",
     "text": [
      "masukkan data: 8\n"
     ]
    },
    {
     "name": "stdout",
     "output_type": "stream",
     "text": [
      "data kamu adalah  [2.0, 4.0, 6.0, 8.0]\n"
     ]
    },
    {
     "name": "stdin",
     "output_type": "stream",
     "text": [
      "masukkan data: 10\n"
     ]
    },
    {
     "name": "stdout",
     "output_type": "stream",
     "text": [
      "data kamu adalah  [2.0, 4.0, 6.0, 8.0, 10.0]\n"
     ]
    }
   ],
   "source": [
    "list_data=[]\n",
    "for i in range(5):\n",
    "    list_data.append(float(input(\"masukkan data:\")))\n",
    "    print(\"data kamu adalah \",list_data)"
   ]
  },
  {
   "cell_type": "code",
   "execution_count": 61,
   "id": "79b9cdad-7444-4791-92f3-9511fccf25c8",
   "metadata": {},
   "outputs": [
    {
     "name": "stdout",
     "output_type": "stream",
     "text": [
      "1 * 1 = 1\n",
      "1 * 2 = 2\n",
      "1 * 3 = 3\n",
      "1 * 4 = 4\n",
      "1 * 5 = 5\n",
      "1 * 6 = 6\n",
      "1 * 7 = 7\n",
      "1 * 8 = 8\n",
      "1 * 9 = 9\n",
      "1 * 10 = 10\n",
      "\n",
      "2 * 1 = 2\n",
      "2 * 2 = 4\n",
      "2 * 3 = 6\n",
      "2 * 4 = 8\n",
      "2 * 5 = 10\n",
      "2 * 6 = 12\n",
      "2 * 7 = 14\n",
      "2 * 8 = 16\n",
      "2 * 9 = 18\n",
      "2 * 10 = 20\n",
      "\n",
      "Terima kasih!\n"
     ]
    }
   ],
   "source": [
    "for i in range(1,3):\n",
    "    for j in range(1,11):\n",
    "        print(i, \"*\",j, \"=\",i*j)\n",
    "    print()\n",
    "print(\"Terima kasih!\")"
   ]
  },
  {
   "cell_type": "code",
   "execution_count": 103,
   "id": "bf969e24-2ff3-4eaa-ad01-c38c1844b96f",
   "metadata": {},
   "outputs": [
    {
     "name": "stdin",
     "output_type": "stream",
     "text": [
      "masukkan jumlah baris:  8\n"
     ]
    },
    {
     "name": "stdout",
     "output_type": "stream",
     "text": [
      "*  \n",
      "* *  \n",
      "* * *  \n",
      "* * * *  \n",
      "* * * * *  \n",
      "* * * * * *  \n",
      "* * * * * * *  \n",
      "* * * * * * * *  \n"
     ]
    }
   ],
   "source": [
    "n=int(input(\"masukkan jumlah baris: \"))\n",
    "for i in range(n):\n",
    "    for j in range(i+1):\n",
    "        print(\"*\",end=\" \")\n",
    "    print(' ')"
   ]
  },
  {
   "cell_type": "code",
   "execution_count": 111,
   "id": "c5573d9d-db77-4c64-95c4-2fe337e96ef5",
   "metadata": {},
   "outputs": [
    {
     "name": "stdin",
     "output_type": "stream",
     "text": [
      "masukkan jumlah baris:  8\n"
     ]
    },
    {
     "name": "stdout",
     "output_type": "stream",
     "text": [
      "1  \n",
      "1 2  \n",
      "1 2 3  \n",
      "1 2 3 4  \n",
      "1 2 3 4 5  \n",
      "1 2 3 4 5 6  \n",
      "1 2 3 4 5 6 7  \n",
      "1 2 3 4 5 6 7 8  \n"
     ]
    }
   ],
   "source": [
    "n=int(input(\"masukkan jumlah baris: \"))\n",
    "for i in range(n):\n",
    "    for j in range(i+1):\n",
    "        print(j+1,end=\" \")\n",
    "    print(' ')"
   ]
  },
  {
   "cell_type": "code",
   "execution_count": null,
   "id": "9029b3c6-f36c-4dd9-bdfc-5617d3e6265e",
   "metadata": {},
   "outputs": [],
   "source": [
    "ans='ya'\n",
    "hitung=0\n",
    "while (ans=='ya'):\n",
    "    hitung=hitung+1\n",
    "    ans=input('lagi?')\n",
    "    if ans=='tidak':\n",
    "     break\n",
    "print(\"total perulangan: \", hitung)"
   ]
  }
 ],
 "metadata": {
  "kernelspec": {
   "display_name": "Python 3 (ipykernel)",
   "language": "python",
   "name": "python3"
  },
  "language_info": {
   "codemirror_mode": {
    "name": "ipython",
    "version": 3
   },
   "file_extension": ".py",
   "mimetype": "text/x-python",
   "name": "python",
   "nbconvert_exporter": "python",
   "pygments_lexer": "ipython3",
   "version": "3.12.4"
  }
 },
 "nbformat": 4,
 "nbformat_minor": 5
}
