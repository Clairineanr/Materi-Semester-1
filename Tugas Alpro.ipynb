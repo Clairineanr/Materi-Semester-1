{
  "nbformat": 4,
  "nbformat_minor": 0,
  "metadata": {
    "colab": {
      "provenance": [],
      "authorship_tag": "ABX9TyOKpbDKIyIprtspvy2s9HyL",
      "include_colab_link": true
    },
    "kernelspec": {
      "name": "python3",
      "display_name": "Python 3"
    },
    "language_info": {
      "name": "python"
    }
  },
  "cells": [
    {
      "cell_type": "markdown",
      "metadata": {
        "id": "view-in-github",
        "colab_type": "text"
      },
      "source": [
        "<a href=\"https://colab.research.google.com/github/Clairineanr/Materi-Semester-1/blob/main/Tugas%20Alpro.ipynb\" target=\"_parent\"><img src=\"https://colab.research.google.com/assets/colab-badge.svg\" alt=\"Open In Colab\"/></a>"
      ]
    },
    {
      "cell_type": "markdown",
      "source": [
        "Sebuah toko buku memiliki 10 jenis buku yang berbeda. Setiap buku dijual dengan harga yang berbeda.\n",
        "\n",
        "Harga per buku adalah: (dalam satuan IDR)\n",
        "*   Buku A : 80\n",
        "*   Buku B : 100\n",
        "*   Buku C : 115\n",
        "*   Buku D : 95\n",
        "*   Buku E : 50\n",
        "*   Buku F : 35\n",
        "*   Buku G : 125\n",
        "*   Buku H : 150\n",
        "*   Buku I : 25\n",
        "*   Buku J : 45\n",
        "\n",
        "Banyaknya penjualan setiap buku :\n",
        "*   Buku A : 15\n",
        "*   Buku B : 20\n",
        "*   Buku C : 10\n",
        "*   Buku D : 8\n",
        "*   Buku E : 7\n",
        "*   Buku F : 9\n",
        "*   Buku G : 25\n",
        "*   Buku H : 30\n",
        "*   Buku I : 5\n",
        "*   Buku J : 5\n",
        "\n",
        "Hitunglah total pendapatan dari setiap dan seluruh buku tersebut!\n",
        "\n",
        "\n",
        "\n",
        "\n",
        "\n",
        "\n",
        "\n",
        "\n",
        "\n"
      ],
      "metadata": {
        "id": "EPZOON-YD8qF"
      }
    },
    {
      "cell_type": "code",
      "execution_count": null,
      "metadata": {
        "colab": {
          "base_uri": "https://localhost:8080/"
        },
        "id": "8snWFi6BD0O0",
        "outputId": "23b6deb6-38e8-43fe-a497-ae087e6f657c"
      },
      "outputs": [
        {
          "output_type": "stream",
          "name": "stdout",
          "text": [
            "Pendapatan dari buku A: 1200 ribu IDR\n",
            "Pendapatan dari buku B: 2000 ribu IDR\n",
            "Pendapatan dari buku C: 1150 ribu IDR\n",
            "Pendapatan dari buku D: 760 ribu IDR\n",
            "Pendapatan dari buku E: 350 ribu IDR\n",
            "Pendapatan dari buku F: 315 ribu IDR\n",
            "Pendapatan dari buku G: 3125 ribu IDR\n",
            "Pendapatan dari buku H: 4500 ribu IDR\n",
            "Pendapatan dari buku I: 125 ribu IDR\n",
            "Pendapatan dari buku J: 225 ribu IDR\n",
            "Total pendapatan dari penjualan semua buku: 13750 ribu IDR\n"
          ]
        }
      ],
      "source": [
        "# Harga per buku dalam ribuan IDR\n",
        "harga_buku = [80,100,115,95,50,35,125,150,25,45]\n",
        "\n",
        "\n",
        "# Jumlah penjualan untuk setiap buku\n",
        "jumlah_penjualan = [15,20,10,8,7,9,25,30,5,5]\n",
        "\n",
        "\n",
        "# Menghitung total pendapatan\n",
        "total = 0\n",
        "\n",
        "for i in range(len(harga_buku)):\n",
        "    pendapatan = harga_buku[i] * jumlah_penjualan[i]\n",
        "    total += pendapatan\n",
        "    print(f\"Pendapatan dari buku {chr(ord('A') + i)}: {pendapatan} ribu IDR\")\n",
        "\n",
        "# Lakukan print untuk total keseluruhan\n",
        "print(f\"Total pendapatan dari penjualan semua buku: {total} ribu IDR\")"
      ]
    },
    {
      "cell_type": "markdown",
      "source": [
        "Perusahaan Telkom University Surabaya memiliki 100 staff. Setiap staff mendapatkan gaji yang berbeda berdasarkan lama waktu mereka bekerja. Berdasarkan ketentuan berikut :\n",
        "*   Bekerja dibawah 5 tahun : 100 USD perbulan\n",
        "*   Bekerja selama 5 tahun : mendapatkan 150 USD perbulan\n",
        "*   Bekerja antara 5 hingga 10 tahun : mendapatkan 225 USD perbulan\n",
        "*   Bekerja diatas 10 tahun : 300 USD perbulan\n",
        "\n",
        "Daftar lama bekerja para staff adalah : [2, 8, 4, 5, 11, 5, 13, 6]\n",
        "\n",
        "Tentukan gaji yang di peroleh staff tiap bulan!"
      ],
      "metadata": {
        "id": "-BPqvVkmNKZa"
      }
    },
    {
      "cell_type": "code",
      "source": [
        "lama_bekerja = [2, 8, 4, 5, 11, 5, 13, 6]\n",
        "gaji_didapat = []\n",
        "a = 100\n",
        "b = 150\n",
        "c = 225\n",
        "d = 300\n",
        "A = 100*2\n",
        "B = 150*2\n",
        "C = 225*2\n",
        "D = 300*2\n",
        "for i in lama_bekerja :\n",
        "    if i < 5 :\n",
        "        print(f\"Gaji yang diperoleh adalah : {a} USD perbulan \")\n",
        "        gaji_didapat.append(a)\n",
        "    elif i == 5 :\n",
        "        print(f\"Gaji yang diperoleh adalah : {b} USD perbulan \")\n",
        "        gaji_didapat.append(b)\n",
        "    elif i > 5 and i <= 10 :\n",
        "        print(f\"Gaji yang diperoleh adalah : {c} USD perbulan \")\n",
        "        gaji_didapat.append(c)\n",
        "    else :\n",
        "        print(f\"Gaji yang diperoleh adalah : {d} USD perbulan \")\n",
        "        gaji_didapat.append(d)\n"
      ],
      "metadata": {
        "colab": {
          "base_uri": "https://localhost:8080/"
        },
        "id": "W10KmhIBL_Sk",
        "outputId": "4369617f-1e4d-4415-ff5e-c7920cca6dff"
      },
      "execution_count": null,
      "outputs": [
        {
          "output_type": "stream",
          "name": "stdout",
          "text": [
            "Gaji yang diperoleh adalah : 100 USD perbulan \n",
            "Gaji yang diperoleh adalah : 225 USD perbulan \n",
            "Gaji yang diperoleh adalah : 100 USD perbulan \n",
            "Gaji yang diperoleh adalah : 150 USD perbulan \n",
            "Gaji yang diperoleh adalah : 300 USD perbulan \n",
            "Gaji yang diperoleh adalah : 150 USD perbulan \n",
            "Gaji yang diperoleh adalah : 300 USD perbulan \n",
            "Gaji yang diperoleh adalah : 225 USD perbulan \n"
          ]
        }
      ]
    },
    {
      "cell_type": "code",
      "source": [],
      "metadata": {
        "id": "4YyAUZ1WPEpI"
      },
      "execution_count": null,
      "outputs": []
    }
  ]
}