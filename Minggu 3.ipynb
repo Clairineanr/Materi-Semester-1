{
 "cells": [
  {
   "cell_type": "markdown",
   "id": "411ba74d-b682-460e-bdea-a4d30b08b4a4",
   "metadata": {},
   "source": [
    "## TUGAS PRA KELAS MINGGU KE 4"
   ]
  },
  {
   "cell_type": "markdown",
   "id": "26aafec5-9034-4217-ac84-60d72d4a24ea",
   "metadata": {},
   "source": [
    "### NAMA : CLAIRINE ANARGYA ATHALLAH"
   ]
  },
  {
   "cell_type": "markdown",
   "id": "79b183a9-1351-46d7-9d47-b82bf117c25d",
   "metadata": {},
   "source": [
    "#### NIM : 103102400031"
   ]
  },
  {
   "cell_type": "code",
   "execution_count": 16,
   "id": "daaa7946-c04b-49b4-9222-5e435b6dc0c8",
   "metadata": {},
   "outputs": [
    {
     "name": "stdin",
     "output_type": "stream",
     "text": [
      "Masukkan gaji per jam:  40000\n",
      "Masukkan jumlah jam kerja dalam 1 minggu:  8\n"
     ]
    },
    {
     "name": "stdout",
     "output_type": "stream",
     "text": [
      "Pendapatan Budi selama libur musim panas sebelum melakukan pembayaran pajak adalah  1600000.0\n",
      "Pendapatan Budi selama libur musim panas setelah melakukan pembayaran pajak adalah 1376000.0\n",
      "Jumlah uang yang akan Budi habiskan untuk membeli pakaian dan aksesoris adalah  137600.0\n",
      "Jumlah uang yang akan Budi habiskan untuk membeli alat tulis adalah 13760.0\n",
      "Jumlah uang yang akan Budi sedekahkan adalah 306160.0\n",
      "Jumlah uang yang akan diterima anak yatim adalah 91848.0\n",
      "Jumlah uang yang akan diterima kaum dhuafa adalah 214312.0\n"
     ]
    }
   ],
   "source": [
    "gajiperjam = float(input(\"Masukkan gaji per jam: \"))\n",
    "lamabekerja = int(input(\"Masukkan jumlah jam kerja dalam 1 minggu: \"))\n",
    "hasil = (gajiperjam * lamabekerja)\n",
    "gajikotor = gajiperjam * lamabekerja * 5\n",
    "pajak = gajikotor * 0.14\n",
    "gajibersih = gajikotor - pajak\n",
    "expend_accessories = gajibersih * 0.1\n",
    "expend_atk = gajibersih * 0.01\n",
    "sisauang = gajibersih - expend_accessories - expend_atk\n",
    "sedekah = sisauang * 0.25\n",
    "sedekahanakyatim = sedekah * 0.3\n",
    "sedekahdhuafa = sedekah * 0.7\n",
    "\n",
    "print(\"Pendapatan Budi selama libur musim panas sebelum melakukan pembayaran pajak adalah \", gajikotor) \n",
    "print(\"Pendapatan Budi selama libur musim panas setelah melakukan pembayaran pajak adalah\", gajibersih) \n",
    "print(\"Jumlah uang yang akan Budi habiskan untuk membeli pakaian dan aksesoris adalah \", expend_accessories)\n",
    "print(\"Jumlah uang yang akan Budi habiskan untuk membeli alat tulis adalah\", expend_atk)\n",
    "print(\"Jumlah uang yang akan Budi sedekahkan adalah\", sedekah)\n",
    "print(\"Jumlah uang yang akan diterima anak yatim adalah\", sedekahanakyatim)\n",
    "print(\"Jumlah uang yang akan diterima kaum dhuafa adalah\", sedekahdhuafa)"
   ]
  },
  {
   "cell_type": "code",
   "execution_count": null,
   "id": "c58ea5fb-a8eb-407c-b3b5-ec92108369a1",
   "metadata": {},
   "outputs": [],
   "source": []
  }
 ],
 "metadata": {
  "kernelspec": {
   "display_name": "Python 3 (ipykernel)",
   "language": "python",
   "name": "python3"
  },
  "language_info": {
   "codemirror_mode": {
    "name": "ipython",
    "version": 3
   },
   "file_extension": ".py",
   "mimetype": "text/x-python",
   "name": "python",
   "nbconvert_exporter": "python",
   "pygments_lexer": "ipython3",
   "version": "3.12.4"
  }
 },
 "nbformat": 4,
 "nbformat_minor": 5
}
