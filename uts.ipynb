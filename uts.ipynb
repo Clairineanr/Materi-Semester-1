{
 "cells": [
  {
   "cell_type": "code",
   "execution_count": 5,
   "id": "d1700242-0674-43d0-bd14-799288a31c8a",
   "metadata": {},
   "outputs": [
    {
     "name": "stdout",
     "output_type": "stream",
     "text": [
      "Siswa 1: Predikat \"Sangat Baik\"\n",
      "Siswa 2: Predikat \"Baik\"\n",
      "Siswa 3: Predikat \"Kurang\"\n",
      "Siswa 4: Predikat \"Cukup\"\n",
      "Siswa 5: Predikat \"Sangat Baik\"\n",
      "Siswa 6: Predikat \"Baik\"\n",
      "Siswa 7: Predikat \"Kurang\"\n",
      "Siswa 8: Predikat \"Cukup\"\n",
      "Siswa 9: Predikat \"Sangat Baik\"\n",
      "Siswa 10: Predikat \"Sangat Baik\"\n"
     ]
    }
   ],
   "source": [
    "nilai_siswa = [85, 76, 54, 62, 90, 73, 45, 68, 88, 80]\n",
    "siswa_ke = 0\n",
    "\n",
    "for n in nilai_siswa:\n",
    "    siswa_ke += 1\n",
    "    if n >= 80:\n",
    "        print(f'Siswa {siswa_ke}: Predikat \"Sangat Baik\"')\n",
    "    elif n >= 70 and n <= 79:\n",
    "        print(f'Siswa {siswa_ke}: Predikat \"Baik\"')\n",
    "    elif n >= 60 and n <= 69:\n",
    "        print(f'Siswa {siswa_ke}: Predikat \"Cukup\"')\n",
    "    else:\n",
    "        print(f'Siswa {siswa_ke}: Predikat \"Kurang\"')"
   ]
  },
  {
   "cell_type": "code",
   "execution_count": 17,
   "id": "db3707a4-576b-41df-a356-f1e071a6406c",
   "metadata": {},
   "outputs": [
    {
     "name": "stdout",
     "output_type": "stream",
     "text": [
      "Total uang saku yang diberikan kepada semua anak Keluarga Wijaya dalam satu minggu adalah: $115\n"
     ]
    }
   ],
   "source": [
    "usia_anak = [8, 12, 9, 16, 14, 16, 4, 10]\n",
    "total_uang = 0\n",
    "\n",
    "for i in usia_anak:\n",
    "    if i <10 :\n",
    "        uang_saku = 10\n",
    "    elif 10<= i <=15:\n",
    "        uang_saku = 15\n",
    "    else: \n",
    "         uang_saku = 20\n",
    "    total_uang += uang_saku\n",
    "    \n",
    "print(f\"Total uang saku yang diberikan kepada semua anak Keluarga Wijaya dalam satu minggu adalah: ${total_uang}\")"
   ]
  },
  {
   "cell_type": "code",
   "execution_count": 19,
   "id": "0bb7a98f-84d9-44e0-95d2-ff5ac6cc6db1",
   "metadata": {},
   "outputs": [
    {
     "name": "stdout",
     "output_type": "stream",
     "text": [
      "1 2 6 24 120 "
     ]
    }
   ],
   "source": [
    "x = 1\n",
    "\n",
    "for i in range(5):\n",
    "    x = x * (i+1)\n",
    "    print(x, end=\" \")"
   ]
  },
  {
   "cell_type": "code",
   "execution_count": null,
   "id": "0ddacb32-bfc0-459a-9074-b2c9d0f7afd1",
   "metadata": {},
   "outputs": [],
   "source": []
  }
 ],
 "metadata": {
  "kernelspec": {
   "display_name": "Python 3 (ipykernel)",
   "language": "python",
   "name": "python3"
  },
  "language_info": {
   "codemirror_mode": {
    "name": "ipython",
    "version": 3
   },
   "file_extension": ".py",
   "mimetype": "text/x-python",
   "name": "python",
   "nbconvert_exporter": "python",
   "pygments_lexer": "ipython3",
   "version": "3.12.4"
  }
 },
 "nbformat": 4,
 "nbformat_minor": 5
}
