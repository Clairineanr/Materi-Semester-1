{
 "cells": [
  {
   "cell_type": "markdown",
   "id": "acecafe7-1769-4803-9f9e-c10919cff23e",
   "metadata": {},
   "source": [
    "# Tugas 2"
   ]
  },
  {
   "cell_type": "markdown",
   "id": "414ee7c5-fa39-4f71-900c-744a2bee6581",
   "metadata": {},
   "source": [
    "## Nama : Clairine Anargya Athallah"
   ]
  },
  {
   "cell_type": "markdown",
   "id": "84b2687b-6802-4ed6-a59d-bb35e0833a90",
   "metadata": {},
   "source": [
    "### NIM : 103102400031"
   ]
  },
  {
   "cell_type": "code",
   "execution_count": 5,
   "id": "3ef9c333-48ee-4976-87b8-0472439e22eb",
   "metadata": {},
   "outputs": [
    {
     "name": "stdin",
     "output_type": "stream",
     "text": [
      "panjang alas segitiga:  4\n",
      "tinggi segitiga:  6\n"
     ]
    },
    {
     "name": "stdout",
     "output_type": "stream",
     "text": [
      "Luas segitiga adalah:  12.0\n"
     ]
    }
   ],
   "source": [
    "alas=float(input(\"panjang alas segitiga: \"))\n",
    "tinggi=float(input(\"tinggi segitiga: \"))\n",
    "\n",
    "luas=0.5*alas*tinggi\n",
    "\n",
    "print(\"Luas segitiga adalah: \", luas)"
   ]
  },
  {
   "cell_type": "code",
   "execution_count": 7,
   "id": "a6cde16a-e08e-496b-8ccd-45558fcb93e4",
   "metadata": {},
   "outputs": [
    {
     "name": "stdin",
     "output_type": "stream",
     "text": [
      "angka pertama:  10\n",
      "angka kedua:  24\n"
     ]
    },
    {
     "name": "stdout",
     "output_type": "stream",
     "text": [
      "hasil penjumlahan:  34\n"
     ]
    }
   ],
   "source": [
    "a=int(input(\"angka pertama: \"))\n",
    "b=int(input(\"angka kedua: \"))\n",
    "\n",
    "c=a+b\n",
    "\n",
    "print(\"hasil penjumlahan: \", c)"
   ]
  },
  {
   "cell_type": "code",
   "execution_count": 13,
   "id": "a3072c39-5ff3-4213-83a7-daba4559a5f6",
   "metadata": {},
   "outputs": [
    {
     "name": "stdin",
     "output_type": "stream",
     "text": [
      "suhu dalam celcius:  33\n"
     ]
    },
    {
     "name": "stdout",
     "output_type": "stream",
     "text": [
      "suhu dalam farenheit:  91.4\n"
     ]
    }
   ],
   "source": [
    "celcius=float(input(\"suhu dalam celcius: \"))\n",
    "\n",
    "farenheit=(celcius*9/5)+32\n",
    "\n",
    "print(\"suhu dalam farenheit: \", farenheit)"
   ]
  },
  {
   "cell_type": "code",
   "execution_count": 15,
   "id": "13b429ef-2ae4-4c81-aadc-58222f0d0ab3",
   "metadata": {},
   "outputs": [
    {
     "name": "stdin",
     "output_type": "stream",
     "text": [
      "masukkan nilai a:  5\n",
      "masukkan nilai b:  4\n",
      "masukkan nilai c:  3\n"
     ]
    },
    {
     "name": "stdout",
     "output_type": "stream",
     "text": [
      "rata-rata dari 3 bilangan bulat tersebut adalah x=20.333333333333332\n"
     ]
    }
   ],
   "source": [
    "a=int(input(\"masukkan nilai a: \"))\n",
    "a=int(input(\"masukkan nilai b: \"))\n",
    "a=int(input(\"masukkan nilai c: \"))\n",
    "\n",
    "x=(a+b+c)/3\n",
    "\n",
    "print(f\"rata-rata dari 3 bilangan bulat tersebut adalah x={x}\")"
   ]
  },
  {
   "cell_type": "code",
   "execution_count": 17,
   "id": "9a922901-74c7-42e9-baca-e45d385cefad",
   "metadata": {},
   "outputs": [
    {
     "name": "stdin",
     "output_type": "stream",
     "text": [
      "panjang sisi persegi:  10\n"
     ]
    },
    {
     "name": "stdout",
     "output_type": "stream",
     "text": [
      "luas persegi adalah:  100.0\n",
      "keliling persegi adalah:  40.0\n"
     ]
    }
   ],
   "source": [
    "sisi=float(input(\"panjang sisi persegi: \"))\n",
    "\n",
    "luas=sisi*sisi\n",
    "keliling=4*sisi\n",
    "\n",
    "print(\"luas persegi adalah: \", luas)\n",
    "print(\"keliling persegi adalah: \", keliling)"
   ]
  }
 ],
 "metadata": {
  "kernelspec": {
   "display_name": "Python 3 (ipykernel)",
   "language": "python",
   "name": "python3"
  },
  "language_info": {
   "codemirror_mode": {
    "name": "ipython",
    "version": 3
   },
   "file_extension": ".py",
   "mimetype": "text/x-python",
   "name": "python",
   "nbconvert_exporter": "python",
   "pygments_lexer": "ipython3",
   "version": "3.12.4"
  }
 },
 "nbformat": 4,
 "nbformat_minor": 5
}
