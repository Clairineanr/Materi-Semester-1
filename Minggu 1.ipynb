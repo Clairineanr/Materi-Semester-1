{
 "cells": [
  {
   "cell_type": "code",
   "execution_count": 3,
   "id": "98f1346d-0cd6-4a43-8c78-868d34a7ef05",
   "metadata": {},
   "outputs": [],
   "source": [
    "bilangan_bulat = 10\n",
    "bilangan_desimal = 3.14\n",
    "teks = \"Halo, dunia!\"\n",
    "teks_multibaris = '''Clairine dan Shindy'''\n",
    "boolean = True"
   ]
  },
  {
   "cell_type": "code",
   "execution_count": 5,
   "id": "7062797c-7d14-4b10-8ea6-ffd52c2872d1",
   "metadata": {},
   "outputs": [
    {
     "name": "stdout",
     "output_type": "stream",
     "text": [
      "Nama: Clairine dan Umur: 18\n",
      "Nama: Clairine dan Umur: 18\n",
      "\n",
      "\n",
      "Clairine dan Shindy\n"
     ]
    }
   ],
   "source": [
    "nama = \"Clairine\"\n",
    "umur = 18\n",
    "\n",
    "print('Nama:', nama, 'dan Umur:', umur)\n",
    "print(f\"Nama: {nama} dan Umur: {umur}\")\n",
    "print('\\n')\n",
    "print(teks_multibaris)"
   ]
  },
  {
   "cell_type": "code",
   "execution_count": 7,
   "id": "684ac91a-cacc-439c-803f-3aa18c60e2b0",
   "metadata": {},
   "outputs": [
    {
     "name": "stdout",
     "output_type": "stream",
     "text": [
      "Nama saya Clairine dan Umur saya adalah 18 Tahun dan sedang Berkuliah, di Telkom University Surabaya\n"
     ]
    }
   ],
   "source": [
    "nama = \"Clairine\"\n",
    "a = 10; b = 8\n",
    "kesibukan, keterangan = 'Berkuliah','Telkom University Surabaya'\n",
    "print(f\"Nama saya {nama} dan Umur saya adalah {a+b} Tahun dan sedang {kesibukan}, di {keterangan}\")"
   ]
  },
  {
   "cell_type": "code",
   "execution_count": 9,
   "id": "f1a502da-8820-46db-b38f-39281af2e8dd",
   "metadata": {},
   "outputs": [
    {
     "data": {
      "text/plain": [
       "10.0"
      ]
     },
     "execution_count": 9,
     "metadata": {},
     "output_type": "execute_result"
    }
   ],
   "source": [
    "#import library math\n",
    "import math\n",
    "math.sqrt(100)"
   ]
  },
  {
   "cell_type": "code",
   "execution_count": 11,
   "id": "d0e83541-276f-41e9-a29c-6af32f3315fe",
   "metadata": {},
   "outputs": [
    {
     "name": "stdin",
     "output_type": "stream",
     "text": [
      "masukkan nilai a:  10\n",
      "masukkan nilai b:  -1\n",
      "masukkan nilai c:  -2\n"
     ]
    },
    {
     "name": "stdout",
     "output_type": "stream",
     "text": [
      "0.5 -0.4\n"
     ]
    }
   ],
   "source": [
    "#input\n",
    "a= int(input(\"masukkan nilai a: \"))\n",
    "b= int(input(\"masukkan nilai b: \"))\n",
    "c= int(input(\"masukkan nilai c: \"))\n",
    "\n",
    "#proses\n",
    "x1= (-b + math.sqrt(b**2-4*a*c))/(2*a)\n",
    "x2= (-b - math.sqrt(b**2-4*a*c))/(2*a)\n",
    "\n",
    "print(x1, x2)"
   ]
  },
  {
   "cell_type": "code",
   "execution_count": 15,
   "id": "e4f408d7-fb3f-42fd-8d4e-63527c128588",
   "metadata": {},
   "outputs": [
    {
     "name": "stdin",
     "output_type": "stream",
     "text": [
      "nilai x adalah:  10\n"
     ]
    },
    {
     "name": "stdout",
     "output_type": "stream",
     "text": [
      "8021.5\n"
     ]
    }
   ],
   "source": [
    "x= int(input(\"nilai x adalah: \"))\n",
    "\n",
    "f = (2*x)**3 + 2*x + 15/x\n",
    "print(f)"
   ]
  },
  {
   "cell_type": "code",
   "execution_count": 19,
   "id": "1ab7695a-34bb-4b61-9dbd-47b42daface8",
   "metadata": {},
   "outputs": [
    {
     "name": "stdin",
     "output_type": "stream",
     "text": [
      "titik x1:  3\n",
      "titik y1:  6\n",
      "titik x2:  9\n",
      "titik y2:  12\n"
     ]
    },
    {
     "name": "stdout",
     "output_type": "stream",
     "text": [
      "4.898979485566356\n"
     ]
    }
   ],
   "source": [
    "import math\n",
    "\n",
    "x1 = int(input(\"titik x1: \"))\n",
    "y1 = int(input(\"titik y1: \"))\n",
    "x2 = int(input(\"titik x2: \"))\n",
    "y2 = int(input(\"titik y2: \"))\n",
    "\n",
    "d = math.sqrt((((x2-x1))*2) + ((y2-y1)*2))\n",
    "print(d)"
   ]
  },
  {
   "cell_type": "code",
   "execution_count": 21,
   "id": "da33cf03-bc1b-45b4-9559-785e86d74879",
   "metadata": {},
   "outputs": [
    {
     "name": "stdin",
     "output_type": "stream",
     "text": [
      "nilai a:  33\n",
      "nilai b:  66\n",
      "nilai c:  99\n"
     ]
    },
    {
     "name": "stdout",
     "output_type": "stream",
     "text": [
      "132.0\n"
     ]
    }
   ],
   "source": [
    "a= int(input(\"nilai a: \"))\n",
    "b= int(input(\"nilai b: \"))\n",
    "c= int(input(\"nilai c: \"))\n",
    "\n",
    "rata_rata = a+b+c/3\n",
    "print(rata_rata)"
   ]
  },
  {
   "cell_type": "code",
   "execution_count": 27,
   "id": "cbc623fc-e0a6-4301-9bd8-18e81afb7119",
   "metadata": {},
   "outputs": [
    {
     "name": "stdin",
     "output_type": "stream",
     "text": [
      "Masukkan nilai x: 4\n"
     ]
    },
    {
     "name": "stdout",
     "output_type": "stream",
     "text": [
      "Nilai f(x) untuk x=4 adalah 139.75\n"
     ]
    }
   ],
   "source": [
    "x=int(input(\"Masukkan nilai x:\"))\n",
    "\n",
    "#Menghitung nilai fungsi f(x)\n",
    "f_x=(2*x**3+2*x+(15/x))\n",
    "\n",
    "print(f\"Nilai f(x) untuk x={x} adalah {f_x}\")"
   ]
  },
  {
   "cell_type": "code",
   "execution_count": null,
   "id": "2ef76149-68b1-4cc9-8e8b-4245df0d4ab9",
   "metadata": {},
   "outputs": [],
   "source": []
  }
 ],
 "metadata": {
  "kernelspec": {
   "display_name": "Python 3 (ipykernel)",
   "language": "python",
   "name": "python3"
  },
  "language_info": {
   "codemirror_mode": {
    "name": "ipython",
    "version": 3
   },
   "file_extension": ".py",
   "mimetype": "text/x-python",
   "name": "python",
   "nbconvert_exporter": "python",
   "pygments_lexer": "ipython3",
   "version": "3.12.4"
  }
 },
 "nbformat": 4,
 "nbformat_minor": 5
}
