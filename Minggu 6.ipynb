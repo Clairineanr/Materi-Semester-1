{
 "cells": [
  {
   "cell_type": "code",
   "execution_count": 1,
   "id": "fd6e5b03-b34c-4d19-ac99-d07632a74c04",
   "metadata": {},
   "outputs": [
    {
     "name": "stdin",
     "output_type": "stream",
     "text": [
      "lagi? ya\n",
      "lagi? tidak\n"
     ]
    },
    {
     "name": "stdout",
     "output_type": "stream",
     "text": [
      "total perulangan:  2\n"
     ]
    }
   ],
   "source": [
    "ans='ya'\n",
    "hitung=0\n",
    "while (ans=='ya'):\n",
    "    hitung=hitung+1\n",
    "    ans=input('lagi?')\n",
    "    if ans=='tidak':\n",
    "     break\n",
    "print(\"total perulangan: \", hitung)"
   ]
  },
  {
   "cell_type": "code",
   "execution_count": 5,
   "id": "136ef8ed-75d2-4f51-affd-9b7bd0232dcb",
   "metadata": {},
   "outputs": [
    {
     "name": "stdin",
     "output_type": "stream",
     "text": [
      "masukkan banyaknya bilangan:  7\n"
     ]
    },
    {
     "name": "stdout",
     "output_type": "stream",
     "text": [
      "0\n",
      "1\n",
      "1\n",
      "2\n",
      "3\n",
      "5\n",
      "8\n"
     ]
    }
   ],
   "source": [
    "banyak_bilangan=(int(input(\"masukkan banyaknya bilangan: \")))\n",
    "count=0\n",
    "b1=0\n",
    "b2=1\n",
    "\n",
    "while count<banyak_bilangan:\n",
    "    print(b1)\n",
    "    sum=b1+b2\n",
    "    b1=b2\n",
    "    b2=sum\n",
    "    count+=1\n",
    "                     "
   ]
  },
  {
   "cell_type": "code",
   "execution_count": 9,
   "id": "55b9e74b-a66a-477b-bd33-3bc83ab24144",
   "metadata": {},
   "outputs": [
    {
     "name": "stdin",
     "output_type": "stream",
     "text": [
      "masukkan jumlah data:  1\n",
      "masukkan data ke-1:  2\n"
     ]
    },
    {
     "name": "stdout",
     "output_type": "stream",
     "text": [
      "Total penjumlahan: 2.0\n",
      "rata rata: 2.0\n"
     ]
    }
   ],
   "source": [
    "n = int(input(\"masukkan jumlah data: \"))\n",
    "total = 0\n",
    "for i in range(n):\n",
    "    data = float(input(f\"masukkan data ke-{i + 1}: \"))\n",
    "    total += data\n",
    "rata_rata = total / n\n",
    "\n",
    "print(f\"Total penjumlahan: {total}\")\n",
    "print(f\"rata rata: {rata_rata}\")"
   ]
  }
 ],
 "metadata": {
  "kernelspec": {
   "display_name": "Python 3 (ipykernel)",
   "language": "python",
   "name": "python3"
  },
  "language_info": {
   "codemirror_mode": {
    "name": "ipython",
    "version": 3
   },
   "file_extension": ".py",
   "mimetype": "text/x-python",
   "name": "python",
   "nbconvert_exporter": "python",
   "pygments_lexer": "ipython3",
   "version": "3.12.4"
  }
 },
 "nbformat": 4,
 "nbformat_minor": 5
}
